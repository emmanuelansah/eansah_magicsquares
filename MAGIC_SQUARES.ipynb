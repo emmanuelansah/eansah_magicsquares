{
  "nbformat": 4,
  "nbformat_minor": 0,
  "metadata": {
    "colab": {
      "provenance": []
    },
    "kernelspec": {
      "name": "python3",
      "display_name": "Python 3"
    },
    "language_info": {
      "name": "python"
    }
  },
  "cells": [
    {
      "cell_type": "markdown",
      "source": [
        "n by n Magic Squares"
      ],
      "metadata": {
        "id": "JzanFA78wKMG"
      }
    },
    {
      "cell_type": "code",
      "source": [
        "import numpy as np\n",
        "\n",
        "def generate_magic_square(n):\n",
        "    if n % 2 == 1:  # Odd order\n",
        "        return generate_odd_magic_square(n)\n",
        "    elif n % 4 == 0:  # Doubly even order\n",
        "        return generate_doubly_even_magic_square(n)\n",
        "    elif n % 2 == 0 and n % 4 != 0:  # Singly even order\n",
        "        return generate_singly_even_magic_square(n)\n",
        "    else:\n",
        "        raise ValueError(\"Invalid order for a magic square.\")\n",
        "\n",
        "def generate_odd_magic_square(n):\n",
        "    \"\"\"Generate an odd-order magic square using the Siamese method.\"\"\"\n",
        "    magic_square = np.zeros((n, n), dtype=int)\n",
        "    num = 1\n",
        "    i, j = 0, n // 2\n",
        "\n",
        "    while num <= n * n:\n",
        "        magic_square[i, j] = num\n",
        "        num += 1\n",
        "        new_i, new_j = (i - 1) % n, (j + 1) % n\n",
        "        if magic_square[new_i, new_j]:\n",
        "            i += 1\n",
        "        else:\n",
        "            i, j = new_i, new_j\n",
        "\n",
        "    return magic_square\n",
        "\n",
        "def generate_doubly_even_magic_square(n):\n",
        "    \"\"\"Generate a doubly even magic square (where n is a multiple of 4).\"\"\"\n",
        "    magic_square = np.arange(1, n * n + 1).reshape(n, n)\n",
        "\n",
        "    for i in range(n):\n",
        "        for j in range(n):\n",
        "            if (i % 4 == j % 4) or ((i + j) % 4 == 3):\n",
        "                magic_square[i, j] = n * n + 1 - magic_square[i, j]\n",
        "\n",
        "    return magic_square\n",
        "\n",
        "def generate_singly_even_magic_square(n):\n",
        "    \"\"\"Generate a singly even magic square using the Strachey method (where n = 4k + 2).\"\"\"\n",
        "    half_n = n // 2\n",
        "    sub_square = generate_odd_magic_square(half_n)\n",
        "\n",
        "    magic_square = np.zeros((n, n), dtype=int)\n",
        "\n",
        "\n",
        "    magic_square[:half_n, :half_n] = sub_square\n",
        "    magic_square[:half_n, half_n:] = sub_square + 2 * half_n * half_n\n",
        "    magic_square[half_n:, :half_n] = sub_square + 3 * half_n * half_n\n",
        "    magic_square[half_n:, half_n:] = sub_square + half_n * half_n\n",
        "\n",
        "\n",
        "    cols_to_swap = (n // 2 - 1) // 2\n",
        "\n",
        "\n",
        "    for i in range(half_n):\n",
        "\n",
        "        for j in range(cols_to_swap):\n",
        "            magic_square[i, j], magic_square[i + half_n, j] = magic_square[i + half_n, j], magic_square[i, j]\n",
        "\n",
        "\n",
        "        magic_square[i, 0], magic_square[i + half_n, 0] = magic_square[i + half_n, 0], magic_square[i, 0]\n",
        "\n",
        "\n",
        "    for i in range(half_n):\n",
        "        magic_square[i, -1], magic_square[i + half_n, -1] = magic_square[i + half_n, -1], magic_square[i, -1]\n",
        "\n",
        "    return magic_square\n",
        "\n",
        "def check_sums(magic_square):\n",
        "    \"\"\"Check and print the sums of rows, columns, and diagonals for inspection.\"\"\"\n",
        "    n = magic_square.shape[0]\n",
        "\n",
        "\n",
        "    row_sums = [np.sum(magic_square[i, :]) for i in range(n)]\n",
        "\n",
        "    col_sums = [np.sum(magic_square[:, j]) for j in range(n)]\n",
        "\n",
        "    main_diagonal_sum = np.sum(np.diag(magic_square))\n",
        "\n",
        "    secondary_diagonal_sum = np.sum(np.diag(np.fliplr(magic_square)))\n",
        "\n",
        "    print(\"\\nSum of each row:\", row_sums)\n",
        "    print(\"Sum of each column:\", col_sums)\n",
        "    print(\"Sum of main diagonal:\", main_diagonal_sum)\n",
        "    print(\"Sum of secondary diagonal:\", secondary_diagonal_sum)\n",
        "\n",
        "n = int(input(\"Enter the order of the magic square (n must be greater than or equal to 3): \"))\n",
        "\n",
        "if n < 3:\n",
        "    print(\"Order n must be greater than or equal to 3.\")\n",
        "else:\n",
        "    magic_square = generate_magic_square(n)\n",
        "    print(\"\\nMagic Square:\")\n",
        "    print(magic_square)\n",
        "    check_sums(magic_square)\n"
      ],
      "metadata": {
        "colab": {
          "base_uri": "https://localhost:8080/"
        },
        "id": "oaQ6_g-Cxty-",
        "outputId": "a0f43285-6bd9-4423-a8c3-6dbe92e093d3"
      },
      "execution_count": 2,
      "outputs": [
        {
          "output_type": "stream",
          "name": "stdout",
          "text": [
            "Enter the order of the magic square (n must be greater than or equal to 3): 5\n",
            "\n",
            "Magic Square:\n",
            "[[17 24  1  8 15]\n",
            " [23  5  7 14 16]\n",
            " [ 4  6 13 20 22]\n",
            " [10 12 19 21  3]\n",
            " [11 18 25  2  9]]\n",
            "\n",
            "Sum of each row: [65, 65, 65, 65, 65]\n",
            "Sum of each column: [65, 65, 65, 65, 65]\n",
            "Sum of main diagonal: 65\n",
            "Sum of secondary diagonal: 65\n"
          ]
        }
      ]
    }
  ]
}